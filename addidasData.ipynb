{
 "cells": [
  {
   "cell_type": "code",
   "execution_count": 5,
   "id": "855f5104-a002-4cbc-bdd3-036d0b76a36a",
   "metadata": {},
   "outputs": [],
   "source": [
    "import pandas as pd \n",
    "Data=pd.read_csv(\"AddidasSales.csv\")"
   ]
  },
  {
   "cell_type": "code",
   "execution_count": 6,
   "id": "23ae7337-1472-4a6a-bb60-9a2d726063aa",
   "metadata": {},
   "outputs": [
    {
     "data": {
      "text/html": [
       "<div>\n",
       "<style scoped>\n",
       "    .dataframe tbody tr th:only-of-type {\n",
       "        vertical-align: middle;\n",
       "    }\n",
       "\n",
       "    .dataframe tbody tr th {\n",
       "        vertical-align: top;\n",
       "    }\n",
       "\n",
       "    .dataframe thead th {\n",
       "        text-align: right;\n",
       "    }\n",
       "</style>\n",
       "<table border=\"1\" class=\"dataframe\">\n",
       "  <thead>\n",
       "    <tr style=\"text-align: right;\">\n",
       "      <th></th>\n",
       "      <th>Retailer</th>\n",
       "      <th>Retailer_ID</th>\n",
       "      <th>Invoice_Date</th>\n",
       "      <th>Region</th>\n",
       "      <th>State</th>\n",
       "      <th>City</th>\n",
       "      <th>Product</th>\n",
       "      <th>Price_per_Unit</th>\n",
       "      <th>Units_Sold</th>\n",
       "      <th>Total_Sales</th>\n",
       "      <th>Operating_Profit</th>\n",
       "      <th>Operating_Margin</th>\n",
       "      <th>Sales_Method</th>\n",
       "    </tr>\n",
       "  </thead>\n",
       "  <tbody>\n",
       "    <tr>\n",
       "      <th>0</th>\n",
       "      <td>Foot Locker</td>\n",
       "      <td>1185732.0</td>\n",
       "      <td>1/1/2020</td>\n",
       "      <td>Northeast</td>\n",
       "      <td>New York</td>\n",
       "      <td>New York</td>\n",
       "      <td>Men's Street Footwear</td>\n",
       "      <td>50.0</td>\n",
       "      <td>1200.0</td>\n",
       "      <td>600000.0</td>\n",
       "      <td>300000.0</td>\n",
       "      <td>0.50</td>\n",
       "      <td>In-store</td>\n",
       "    </tr>\n",
       "    <tr>\n",
       "      <th>1</th>\n",
       "      <td>Foot Locker</td>\n",
       "      <td>1185732.0</td>\n",
       "      <td>2/1/2020</td>\n",
       "      <td>Northeast</td>\n",
       "      <td>New York</td>\n",
       "      <td>New York</td>\n",
       "      <td>Men's Athletic Footwear</td>\n",
       "      <td>50.0</td>\n",
       "      <td>1000.0</td>\n",
       "      <td>500000.0</td>\n",
       "      <td>150000.0</td>\n",
       "      <td>0.30</td>\n",
       "      <td>In-store</td>\n",
       "    </tr>\n",
       "    <tr>\n",
       "      <th>2</th>\n",
       "      <td>Foot Locker</td>\n",
       "      <td>1185732.0</td>\n",
       "      <td>3/1/2020</td>\n",
       "      <td>Northeast</td>\n",
       "      <td>New York</td>\n",
       "      <td>New York</td>\n",
       "      <td>Women's Street Footwear</td>\n",
       "      <td>40.0</td>\n",
       "      <td>1000.0</td>\n",
       "      <td>400000.0</td>\n",
       "      <td>140000.0</td>\n",
       "      <td>0.35</td>\n",
       "      <td>In-store</td>\n",
       "    </tr>\n",
       "    <tr>\n",
       "      <th>3</th>\n",
       "      <td>Foot Locker</td>\n",
       "      <td>1185732.0</td>\n",
       "      <td>4/1/2020</td>\n",
       "      <td>Northeast</td>\n",
       "      <td>New York</td>\n",
       "      <td>New York</td>\n",
       "      <td>Women's Athletic Footwear</td>\n",
       "      <td>45.0</td>\n",
       "      <td>850.0</td>\n",
       "      <td>382500.0</td>\n",
       "      <td>133875.0</td>\n",
       "      <td>0.35</td>\n",
       "      <td>In-store</td>\n",
       "    </tr>\n",
       "    <tr>\n",
       "      <th>4</th>\n",
       "      <td>Foot Locker</td>\n",
       "      <td>1185732.0</td>\n",
       "      <td>5/1/2020</td>\n",
       "      <td>Northeast</td>\n",
       "      <td>New York</td>\n",
       "      <td>New York</td>\n",
       "      <td>Men's Apparel</td>\n",
       "      <td>60.0</td>\n",
       "      <td>900.0</td>\n",
       "      <td>540000.0</td>\n",
       "      <td>162000.0</td>\n",
       "      <td>0.30</td>\n",
       "      <td>In-store</td>\n",
       "    </tr>\n",
       "  </tbody>\n",
       "</table>\n",
       "</div>"
      ],
      "text/plain": [
       "      Retailer  Retailer_ID Invoice_Date     Region     State      City  \\\n",
       "0  Foot Locker    1185732.0     1/1/2020  Northeast  New York  New York   \n",
       "1  Foot Locker    1185732.0     2/1/2020  Northeast  New York  New York   \n",
       "2  Foot Locker    1185732.0     3/1/2020  Northeast  New York  New York   \n",
       "3  Foot Locker    1185732.0     4/1/2020  Northeast  New York  New York   \n",
       "4  Foot Locker    1185732.0     5/1/2020  Northeast  New York  New York   \n",
       "\n",
       "                     Product  Price_per_Unit  Units_Sold  Total_Sales  \\\n",
       "0      Men's Street Footwear            50.0      1200.0     600000.0   \n",
       "1    Men's Athletic Footwear            50.0      1000.0     500000.0   \n",
       "2    Women's Street Footwear            40.0      1000.0     400000.0   \n",
       "3  Women's Athletic Footwear            45.0       850.0     382500.0   \n",
       "4              Men's Apparel            60.0       900.0     540000.0   \n",
       "\n",
       "   Operating_Profit  Operating_Margin Sales_Method  \n",
       "0          300000.0              0.50     In-store  \n",
       "1          150000.0              0.30     In-store  \n",
       "2          140000.0              0.35     In-store  \n",
       "3          133875.0              0.35     In-store  \n",
       "4          162000.0              0.30     In-store  "
      ]
     },
     "execution_count": 6,
     "metadata": {},
     "output_type": "execute_result"
    }
   ],
   "source": [
    "Data.head()"
   ]
  },
  {
   "cell_type": "code",
   "execution_count": 10,
   "id": "7708309b-5233-4ed4-95aa-24f232728ea2",
   "metadata": {},
   "outputs": [
    {
     "name": "stdout",
     "output_type": "stream",
     "text": [
      "<class 'pandas.core.frame.DataFrame'>\n",
      "RangeIndex: 9651 entries, 0 to 9650\n",
      "Data columns (total 13 columns):\n",
      " #   Column            Non-Null Count  Dtype  \n",
      "---  ------            --------------  -----  \n",
      " 0   Retailer          9650 non-null   object \n",
      " 1   Retailer_ID       9649 non-null   float64\n",
      " 2   Invoice_Date      9648 non-null   object \n",
      " 3   Region            9648 non-null   object \n",
      " 4   State             9649 non-null   object \n",
      " 5   City              9649 non-null   object \n",
      " 6   Product           9649 non-null   object \n",
      " 7   Price_per_Unit    9649 non-null   float64\n",
      " 8   Units_Sold        9650 non-null   float64\n",
      " 9   Total_Sales       9649 non-null   float64\n",
      " 10  Operating_Profit  9649 non-null   float64\n",
      " 11  Operating_Margin  9649 non-null   float64\n",
      " 12  Sales_Method      9648 non-null   object \n",
      "dtypes: float64(6), object(7)\n",
      "memory usage: 980.3+ KB\n"
     ]
    }
   ],
   "source": [
    "Data.info()"
   ]
  },
  {
   "cell_type": "code",
   "execution_count": 12,
   "id": "1a2c999b-09ec-43ba-9c2f-1b9707eea62d",
   "metadata": {},
   "outputs": [
    {
     "data": {
      "text/html": [
       "<div>\n",
       "<style scoped>\n",
       "    .dataframe tbody tr th:only-of-type {\n",
       "        vertical-align: middle;\n",
       "    }\n",
       "\n",
       "    .dataframe tbody tr th {\n",
       "        vertical-align: top;\n",
       "    }\n",
       "\n",
       "    .dataframe thead th {\n",
       "        text-align: right;\n",
       "    }\n",
       "</style>\n",
       "<table border=\"1\" class=\"dataframe\">\n",
       "  <thead>\n",
       "    <tr style=\"text-align: right;\">\n",
       "      <th></th>\n",
       "      <th>Retailer_ID</th>\n",
       "      <th>Price_per_Unit</th>\n",
       "      <th>Units_Sold</th>\n",
       "      <th>Total_Sales</th>\n",
       "      <th>Operating_Profit</th>\n",
       "      <th>Operating_Margin</th>\n",
       "    </tr>\n",
       "  </thead>\n",
       "  <tbody>\n",
       "    <tr>\n",
       "      <th>count</th>\n",
       "      <td>9.649000e+03</td>\n",
       "      <td>9649.000000</td>\n",
       "      <td>9.650000e+03</td>\n",
       "      <td>9.649000e+03</td>\n",
       "      <td>9649.000000</td>\n",
       "      <td>9649.000000</td>\n",
       "    </tr>\n",
       "    <tr>\n",
       "      <th>mean</th>\n",
       "      <td>1.173728e+06</td>\n",
       "      <td>90.413307</td>\n",
       "      <td>8.158323e+02</td>\n",
       "      <td>1.865275e+05</td>\n",
       "      <td>34421.714469</td>\n",
       "      <td>0.422991</td>\n",
       "    </tr>\n",
       "    <tr>\n",
       "      <th>std</th>\n",
       "      <td>2.894136e+04</td>\n",
       "      <td>4440.183105</td>\n",
       "      <td>3.894795e+04</td>\n",
       "      <td>9.161387e+06</td>\n",
       "      <td>54191.448718</td>\n",
       "      <td>0.097192</td>\n",
       "    </tr>\n",
       "    <tr>\n",
       "      <th>min</th>\n",
       "      <td>0.000000e+00</td>\n",
       "      <td>0.000000</td>\n",
       "      <td>0.000000e+00</td>\n",
       "      <td>0.000000e+00</td>\n",
       "      <td>0.000000</td>\n",
       "      <td>0.100000</td>\n",
       "    </tr>\n",
       "    <tr>\n",
       "      <th>25%</th>\n",
       "      <td>1.185732e+06</td>\n",
       "      <td>35.000000</td>\n",
       "      <td>1.060000e+02</td>\n",
       "      <td>4.256000e+03</td>\n",
       "      <td>1922.000000</td>\n",
       "      <td>0.350000</td>\n",
       "    </tr>\n",
       "    <tr>\n",
       "      <th>50%</th>\n",
       "      <td>1.185732e+06</td>\n",
       "      <td>45.000000</td>\n",
       "      <td>1.760000e+02</td>\n",
       "      <td>9.576000e+03</td>\n",
       "      <td>4371.000000</td>\n",
       "      <td>0.410000</td>\n",
       "    </tr>\n",
       "    <tr>\n",
       "      <th>75%</th>\n",
       "      <td>1.185732e+06</td>\n",
       "      <td>55.000000</td>\n",
       "      <td>3.500000e+02</td>\n",
       "      <td>1.500000e+05</td>\n",
       "      <td>52063.000000</td>\n",
       "      <td>0.490000</td>\n",
       "    </tr>\n",
       "    <tr>\n",
       "      <th>max</th>\n",
       "      <td>1.197831e+06</td>\n",
       "      <td>436199.000000</td>\n",
       "      <td>2.915060e+06</td>\n",
       "      <td>8.999021e+08</td>\n",
       "      <td>390000.000000</td>\n",
       "      <td>0.800000</td>\n",
       "    </tr>\n",
       "  </tbody>\n",
       "</table>\n",
       "</div>"
      ],
      "text/plain": [
       "        Retailer_ID  Price_per_Unit    Units_Sold   Total_Sales  \\\n",
       "count  9.649000e+03     9649.000000  9.650000e+03  9.649000e+03   \n",
       "mean   1.173728e+06       90.413307  8.158323e+02  1.865275e+05   \n",
       "std    2.894136e+04     4440.183105  3.894795e+04  9.161387e+06   \n",
       "min    0.000000e+00        0.000000  0.000000e+00  0.000000e+00   \n",
       "25%    1.185732e+06       35.000000  1.060000e+02  4.256000e+03   \n",
       "50%    1.185732e+06       45.000000  1.760000e+02  9.576000e+03   \n",
       "75%    1.185732e+06       55.000000  3.500000e+02  1.500000e+05   \n",
       "max    1.197831e+06   436199.000000  2.915060e+06  8.999021e+08   \n",
       "\n",
       "       Operating_Profit  Operating_Margin  \n",
       "count       9649.000000       9649.000000  \n",
       "mean       34421.714469          0.422991  \n",
       "std        54191.448718          0.097192  \n",
       "min            0.000000          0.100000  \n",
       "25%         1922.000000          0.350000  \n",
       "50%         4371.000000          0.410000  \n",
       "75%        52063.000000          0.490000  \n",
       "max       390000.000000          0.800000  "
      ]
     },
     "execution_count": 12,
     "metadata": {},
     "output_type": "execute_result"
    }
   ],
   "source": [
    "Data.describe()"
   ]
  },
  {
   "cell_type": "code",
   "execution_count": 16,
   "id": "16a322e5-61c4-4c00-a966-82128f25cbe6",
   "metadata": {},
   "outputs": [
    {
     "data": {
      "text/plain": [
       "(9651, 13)"
      ]
     },
     "execution_count": 16,
     "metadata": {},
     "output_type": "execute_result"
    }
   ],
   "source": [
    "Data.shape"
   ]
  },
  {
   "cell_type": "code",
   "execution_count": 18,
   "id": "423bcb7c-0af7-4e9a-9ed2-28b913752bc2",
   "metadata": {},
   "outputs": [
    {
     "data": {
      "text/plain": [
       "array([1185732., 1197831., 1128299., 1189833.,       0.,      nan])"
      ]
     },
     "execution_count": 18,
     "metadata": {},
     "output_type": "execute_result"
    }
   ],
   "source": [
    "Data.Retailer_ID.unique()"
   ]
  },
  {
   "cell_type": "code",
   "execution_count": 20,
   "id": "15527f9f-f68b-46fb-83c6-25de9cd9feff",
   "metadata": {},
   "outputs": [
    {
     "data": {
      "text/plain": [
       "0       1185732.0\n",
       "1       1185732.0\n",
       "2       1185732.0\n",
       "3       1185732.0\n",
       "4       1185732.0\n",
       "          ...    \n",
       "9646    1185732.0\n",
       "9647    1185732.0\n",
       "9648          0.0\n",
       "9649          NaN\n",
       "9650          NaN\n",
       "Name: Retailer_ID, Length: 9651, dtype: float64"
      ]
     },
     "execution_count": 20,
     "metadata": {},
     "output_type": "execute_result"
    }
   ],
   "source": [
    "Data.Retailer_ID"
   ]
  },
  {
   "cell_type": "code",
   "execution_count": 24,
   "id": "421cd4d6-523a-4ee7-b8b4-cf1b3192366c",
   "metadata": {},
   "outputs": [
    {
     "data": {
      "text/plain": [
       "array(['Northeast', 'South', 'West', 'Midwest', 'Southeast', nan],\n",
       "      dtype=object)"
      ]
     },
     "execution_count": 24,
     "metadata": {},
     "output_type": "execute_result"
    }
   ],
   "source": [
    "Data.Region.unique()"
   ]
  },
  {
   "cell_type": "code",
   "execution_count": 26,
   "id": "6afa0ce7-7f6a-4342-93d0-a27e01b06cc1",
   "metadata": {},
   "outputs": [
    {
     "data": {
      "text/plain": [
       "Region\n",
       "West         2448\n",
       "Northeast    2376\n",
       "Midwest      1872\n",
       "South        1728\n",
       "Southeast    1224\n",
       "Name: count, dtype: int64"
      ]
     },
     "execution_count": 26,
     "metadata": {},
     "output_type": "execute_result"
    }
   ],
   "source": [
    "Data.Region.value_counts()"
   ]
  },
  {
   "cell_type": "code",
   "execution_count": 28,
   "id": "cead0c11-a419-4c2f-bada-b621c67e07d5",
   "metadata": {},
   "outputs": [
    {
     "data": {
      "text/html": [
       "<div>\n",
       "<style scoped>\n",
       "    .dataframe tbody tr th:only-of-type {\n",
       "        vertical-align: middle;\n",
       "    }\n",
       "\n",
       "    .dataframe tbody tr th {\n",
       "        vertical-align: top;\n",
       "    }\n",
       "\n",
       "    .dataframe thead th {\n",
       "        text-align: right;\n",
       "    }\n",
       "</style>\n",
       "<table border=\"1\" class=\"dataframe\">\n",
       "  <thead>\n",
       "    <tr style=\"text-align: right;\">\n",
       "      <th></th>\n",
       "      <th>Retailer</th>\n",
       "      <th>Retailer_ID</th>\n",
       "      <th>Invoice_Date</th>\n",
       "      <th>Region</th>\n",
       "      <th>State</th>\n",
       "      <th>City</th>\n",
       "      <th>Product</th>\n",
       "      <th>Price_per_Unit</th>\n",
       "      <th>Units_Sold</th>\n",
       "      <th>Total_Sales</th>\n",
       "      <th>Operating_Profit</th>\n",
       "      <th>Operating_Margin</th>\n",
       "      <th>Sales_Method</th>\n",
       "    </tr>\n",
       "  </thead>\n",
       "  <tbody>\n",
       "    <tr>\n",
       "      <th>6885</th>\n",
       "      <td>Sports Direct</td>\n",
       "      <td>1185732.0</td>\n",
       "      <td>9/10/2021</td>\n",
       "      <td>Midwest</td>\n",
       "      <td>North Dakota</td>\n",
       "      <td>Fargo</td>\n",
       "      <td>Men's Street Footwear</td>\n",
       "      <td>49.0</td>\n",
       "      <td>116.0</td>\n",
       "      <td>5684.0</td>\n",
       "      <td>2671.0</td>\n",
       "      <td>0.47</td>\n",
       "      <td>Online</td>\n",
       "    </tr>\n",
       "  </tbody>\n",
       "</table>\n",
       "</div>"
      ],
      "text/plain": [
       "           Retailer  Retailer_ID Invoice_Date   Region         State   City  \\\n",
       "6885  Sports Direct    1185732.0    9/10/2021  Midwest  North Dakota  Fargo   \n",
       "\n",
       "                    Product  Price_per_Unit  Units_Sold  Total_Sales  \\\n",
       "6885  Men's Street Footwear            49.0       116.0       5684.0   \n",
       "\n",
       "      Operating_Profit  Operating_Margin Sales_Method  \n",
       "6885            2671.0              0.47       Online  "
      ]
     },
     "execution_count": 28,
     "metadata": {},
     "output_type": "execute_result"
    }
   ],
   "source": [
    "Data.sample()"
   ]
  },
  {
   "cell_type": "code",
   "execution_count": 30,
   "id": "2149546e-0ab0-48ac-8235-c787b8282af9",
   "metadata": {},
   "outputs": [
    {
     "data": {
      "text/plain": [
       "Total_Sales\n",
       "100000.0       67\n",
       "90000.0        57\n",
       "180000.0       57\n",
       "135000.0       56\n",
       "150000.0       53\n",
       "               ..\n",
       "6878.0          1\n",
       "6237.0          1\n",
       "11792.0         1\n",
       "15525.0         1\n",
       "899902125.0     1\n",
       "Name: count, Length: 3139, dtype: int64"
      ]
     },
     "execution_count": 30,
     "metadata": {},
     "output_type": "execute_result"
    }
   ],
   "source": [
    "Data.Total_Sales.value_counts()"
   ]
  },
  {
   "cell_type": "code",
   "execution_count": 34,
   "id": "0bb07959-a633-4ddc-bef3-f091a65c339a",
   "metadata": {},
   "outputs": [],
   "source": [
    "Data.Invoice_Date=pd.to_datetime(Data.Invoice_Date,dayfirst=True)"
   ]
  },
  {
   "cell_type": "code",
   "execution_count": 36,
   "id": "df523087-e5f7-4f27-9af4-ace6cdfacee6",
   "metadata": {},
   "outputs": [
    {
     "name": "stdout",
     "output_type": "stream",
     "text": [
      "<class 'pandas.core.frame.DataFrame'>\n",
      "RangeIndex: 9651 entries, 0 to 9650\n",
      "Data columns (total 13 columns):\n",
      " #   Column            Non-Null Count  Dtype         \n",
      "---  ------            --------------  -----         \n",
      " 0   Retailer          9650 non-null   object        \n",
      " 1   Retailer_ID       9649 non-null   float64       \n",
      " 2   Invoice_Date      9648 non-null   datetime64[ns]\n",
      " 3   Region            9648 non-null   object        \n",
      " 4   State             9649 non-null   object        \n",
      " 5   City              9649 non-null   object        \n",
      " 6   Product           9649 non-null   object        \n",
      " 7   Price_per_Unit    9649 non-null   float64       \n",
      " 8   Units_Sold        9650 non-null   float64       \n",
      " 9   Total_Sales       9649 non-null   float64       \n",
      " 10  Operating_Profit  9649 non-null   float64       \n",
      " 11  Operating_Margin  9649 non-null   float64       \n",
      " 12  Sales_Method      9648 non-null   object        \n",
      "dtypes: datetime64[ns](1), float64(6), object(6)\n",
      "memory usage: 980.3+ KB\n"
     ]
    }
   ],
   "source": [
    "Data.info()"
   ]
  },
  {
   "cell_type": "code",
   "execution_count": 38,
   "id": "56703723-260b-4d4c-9e65-165146b76c39",
   "metadata": {},
   "outputs": [],
   "source": [
    "Data[\"Month\"]=Data.Invoice_Date.dt.month"
   ]
  },
  {
   "cell_type": "code",
   "execution_count": 40,
   "id": "e6411742-dbfd-4a9e-a10d-fe1ac068a2fd",
   "metadata": {},
   "outputs": [
    {
     "data": {
      "text/html": [
       "<div>\n",
       "<style scoped>\n",
       "    .dataframe tbody tr th:only-of-type {\n",
       "        vertical-align: middle;\n",
       "    }\n",
       "\n",
       "    .dataframe tbody tr th {\n",
       "        vertical-align: top;\n",
       "    }\n",
       "\n",
       "    .dataframe thead th {\n",
       "        text-align: right;\n",
       "    }\n",
       "</style>\n",
       "<table border=\"1\" class=\"dataframe\">\n",
       "  <thead>\n",
       "    <tr style=\"text-align: right;\">\n",
       "      <th></th>\n",
       "      <th>Retailer</th>\n",
       "      <th>Retailer_ID</th>\n",
       "      <th>Invoice_Date</th>\n",
       "      <th>Region</th>\n",
       "      <th>State</th>\n",
       "      <th>City</th>\n",
       "      <th>Product</th>\n",
       "      <th>Price_per_Unit</th>\n",
       "      <th>Units_Sold</th>\n",
       "      <th>Total_Sales</th>\n",
       "      <th>Operating_Profit</th>\n",
       "      <th>Operating_Margin</th>\n",
       "      <th>Sales_Method</th>\n",
       "      <th>Month</th>\n",
       "    </tr>\n",
       "  </thead>\n",
       "  <tbody>\n",
       "    <tr>\n",
       "      <th>1117</th>\n",
       "      <td>Sports Direct</td>\n",
       "      <td>1197831.0</td>\n",
       "      <td>2021-09-11</td>\n",
       "      <td>South</td>\n",
       "      <td>Alabama</td>\n",
       "      <td>Birmingham</td>\n",
       "      <td>Women's Apparel</td>\n",
       "      <td>60.0</td>\n",
       "      <td>800.0</td>\n",
       "      <td>480000.0</td>\n",
       "      <td>312000.0</td>\n",
       "      <td>0.65</td>\n",
       "      <td>Outlet</td>\n",
       "      <td>9.0</td>\n",
       "    </tr>\n",
       "  </tbody>\n",
       "</table>\n",
       "</div>"
      ],
      "text/plain": [
       "           Retailer  Retailer_ID Invoice_Date Region    State        City  \\\n",
       "1117  Sports Direct    1197831.0   2021-09-11  South  Alabama  Birmingham   \n",
       "\n",
       "              Product  Price_per_Unit  Units_Sold  Total_Sales  \\\n",
       "1117  Women's Apparel            60.0       800.0     480000.0   \n",
       "\n",
       "      Operating_Profit  Operating_Margin Sales_Method  Month  \n",
       "1117          312000.0              0.65       Outlet    9.0  "
      ]
     },
     "execution_count": 40,
     "metadata": {},
     "output_type": "execute_result"
    }
   ],
   "source": [
    "Data.sample()"
   ]
  },
  {
   "cell_type": "code",
   "execution_count": 42,
   "id": "88c592b6-928c-40b6-8c7c-5e27007e8637",
   "metadata": {},
   "outputs": [],
   "source": [
    "Data[\"MonthName\"]=Data.Invoice_Date.dt.month_name()"
   ]
  },
  {
   "cell_type": "code",
   "execution_count": 44,
   "id": "affd0e6f-8e02-4c1a-acaf-e9225be05b53",
   "metadata": {},
   "outputs": [
    {
     "data": {
      "text/html": [
       "<div>\n",
       "<style scoped>\n",
       "    .dataframe tbody tr th:only-of-type {\n",
       "        vertical-align: middle;\n",
       "    }\n",
       "\n",
       "    .dataframe tbody tr th {\n",
       "        vertical-align: top;\n",
       "    }\n",
       "\n",
       "    .dataframe thead th {\n",
       "        text-align: right;\n",
       "    }\n",
       "</style>\n",
       "<table border=\"1\" class=\"dataframe\">\n",
       "  <thead>\n",
       "    <tr style=\"text-align: right;\">\n",
       "      <th></th>\n",
       "      <th>Retailer</th>\n",
       "      <th>Retailer_ID</th>\n",
       "      <th>Invoice_Date</th>\n",
       "      <th>Region</th>\n",
       "      <th>State</th>\n",
       "      <th>City</th>\n",
       "      <th>Product</th>\n",
       "      <th>Price_per_Unit</th>\n",
       "      <th>Units_Sold</th>\n",
       "      <th>Total_Sales</th>\n",
       "      <th>Operating_Profit</th>\n",
       "      <th>Operating_Margin</th>\n",
       "      <th>Sales_Method</th>\n",
       "      <th>Month</th>\n",
       "      <th>MonthName</th>\n",
       "    </tr>\n",
       "  </thead>\n",
       "  <tbody>\n",
       "    <tr>\n",
       "      <th>2439</th>\n",
       "      <td>Amazon</td>\n",
       "      <td>1185732.0</td>\n",
       "      <td>2021-01-13</td>\n",
       "      <td>Southeast</td>\n",
       "      <td>North Carolina</td>\n",
       "      <td>Charlotte</td>\n",
       "      <td>Men's Street Footwear</td>\n",
       "      <td>35.0</td>\n",
       "      <td>775.0</td>\n",
       "      <td>271250.0</td>\n",
       "      <td>108500.0</td>\n",
       "      <td>0.4</td>\n",
       "      <td>Online</td>\n",
       "      <td>1.0</td>\n",
       "      <td>January</td>\n",
       "    </tr>\n",
       "  </tbody>\n",
       "</table>\n",
       "</div>"
      ],
      "text/plain": [
       "     Retailer  Retailer_ID Invoice_Date     Region           State       City  \\\n",
       "2439   Amazon    1185732.0   2021-01-13  Southeast  North Carolina  Charlotte   \n",
       "\n",
       "                    Product  Price_per_Unit  Units_Sold  Total_Sales  \\\n",
       "2439  Men's Street Footwear            35.0       775.0     271250.0   \n",
       "\n",
       "      Operating_Profit  Operating_Margin Sales_Method  Month MonthName  \n",
       "2439          108500.0               0.4       Online    1.0   January  "
      ]
     },
     "execution_count": 44,
     "metadata": {},
     "output_type": "execute_result"
    }
   ],
   "source": [
    "Data.sample()"
   ]
  },
  {
   "cell_type": "code",
   "execution_count": 46,
   "id": "c9b628fe-be30-484f-9e85-dbbaef8dd91d",
   "metadata": {},
   "outputs": [],
   "source": [
    "Data[\"Year\"]=Data.Invoice_Date.dt.year\n"
   ]
  },
  {
   "cell_type": "code",
   "execution_count": 48,
   "id": "93e366c2-6661-49e7-b312-19bb38d72a05",
   "metadata": {},
   "outputs": [
    {
     "data": {
      "text/html": [
       "<div>\n",
       "<style scoped>\n",
       "    .dataframe tbody tr th:only-of-type {\n",
       "        vertical-align: middle;\n",
       "    }\n",
       "\n",
       "    .dataframe tbody tr th {\n",
       "        vertical-align: top;\n",
       "    }\n",
       "\n",
       "    .dataframe thead th {\n",
       "        text-align: right;\n",
       "    }\n",
       "</style>\n",
       "<table border=\"1\" class=\"dataframe\">\n",
       "  <thead>\n",
       "    <tr style=\"text-align: right;\">\n",
       "      <th></th>\n",
       "      <th>Retailer</th>\n",
       "      <th>Retailer_ID</th>\n",
       "      <th>Invoice_Date</th>\n",
       "      <th>Region</th>\n",
       "      <th>State</th>\n",
       "      <th>City</th>\n",
       "      <th>Product</th>\n",
       "      <th>Price_per_Unit</th>\n",
       "      <th>Units_Sold</th>\n",
       "      <th>Total_Sales</th>\n",
       "      <th>Operating_Profit</th>\n",
       "      <th>Operating_Margin</th>\n",
       "      <th>Sales_Method</th>\n",
       "      <th>Month</th>\n",
       "      <th>MonthName</th>\n",
       "      <th>Year</th>\n",
       "    </tr>\n",
       "  </thead>\n",
       "  <tbody>\n",
       "    <tr>\n",
       "      <th>4136</th>\n",
       "      <td>Kohl's</td>\n",
       "      <td>1189833.0</td>\n",
       "      <td>2021-04-25</td>\n",
       "      <td>West</td>\n",
       "      <td>California</td>\n",
       "      <td>Los Angeles</td>\n",
       "      <td>Men's Street Footwear</td>\n",
       "      <td>41.0</td>\n",
       "      <td>238.0</td>\n",
       "      <td>9758.0</td>\n",
       "      <td>4977.0</td>\n",
       "      <td>0.51</td>\n",
       "      <td>Online</td>\n",
       "      <td>4.0</td>\n",
       "      <td>April</td>\n",
       "      <td>2021.0</td>\n",
       "    </tr>\n",
       "  </tbody>\n",
       "</table>\n",
       "</div>"
      ],
      "text/plain": [
       "     Retailer  Retailer_ID Invoice_Date Region       State         City  \\\n",
       "4136   Kohl's    1189833.0   2021-04-25   West  California  Los Angeles   \n",
       "\n",
       "                    Product  Price_per_Unit  Units_Sold  Total_Sales  \\\n",
       "4136  Men's Street Footwear            41.0       238.0       9758.0   \n",
       "\n",
       "      Operating_Profit  Operating_Margin Sales_Method  Month MonthName    Year  \n",
       "4136            4977.0              0.51       Online    4.0     April  2021.0  "
      ]
     },
     "execution_count": 48,
     "metadata": {},
     "output_type": "execute_result"
    }
   ],
   "source": [
    "Data.sample()"
   ]
  },
  {
   "cell_type": "code",
   "execution_count": 52,
   "id": "3943f621-0483-42dc-be12-d86c87bbd7d7",
   "metadata": {},
   "outputs": [
    {
     "data": {
      "text/plain": [
       "Retailer            1\n",
       "Retailer_ID         2\n",
       "Invoice_Date        3\n",
       "Region              3\n",
       "State               2\n",
       "City                2\n",
       "Product             2\n",
       "Price_per_Unit      2\n",
       "Units_Sold          1\n",
       "Total_Sales         2\n",
       "Operating_Profit    2\n",
       "Operating_Margin    2\n",
       "Sales_Method        3\n",
       "Month               3\n",
       "MonthName           3\n",
       "Year                3\n",
       "dtype: int64"
      ]
     },
     "execution_count": 52,
     "metadata": {},
     "output_type": "execute_result"
    }
   ],
   "source": [
    "Data.isnull().sum()"
   ]
  },
  {
   "cell_type": "code",
   "execution_count": 62,
   "id": "3c519797-dfce-4c13-8488-19f6323f94fd",
   "metadata": {},
   "outputs": [],
   "source": [
    "Data.Region=Data.Region.fillna(value=Data.Region.mode()[0])"
   ]
  },
  {
   "cell_type": "code",
   "execution_count": 64,
   "id": "5718a3c0-24db-4ba8-9960-ccc69cc62c59",
   "metadata": {},
   "outputs": [
    {
     "data": {
      "text/plain": [
       "Retailer            1\n",
       "Retailer_ID         2\n",
       "Invoice_Date        3\n",
       "Region              0\n",
       "State               2\n",
       "City                2\n",
       "Product             2\n",
       "Price_per_Unit      2\n",
       "Units_Sold          1\n",
       "Total_Sales         2\n",
       "Operating_Profit    2\n",
       "Operating_Margin    2\n",
       "Sales_Method        3\n",
       "Month               3\n",
       "MonthName           3\n",
       "Year                3\n",
       "dtype: int64"
      ]
     },
     "execution_count": 64,
     "metadata": {},
     "output_type": "execute_result"
    }
   ],
   "source": [
    "Data.isnull().sum()"
   ]
  },
  {
   "cell_type": "code",
   "execution_count": 66,
   "id": "9dc72fed-57cb-4104-ad22-8f349217d385",
   "metadata": {},
   "outputs": [
    {
     "name": "stdout",
     "output_type": "stream",
     "text": [
      "<class 'pandas.core.frame.DataFrame'>\n",
      "RangeIndex: 9651 entries, 0 to 9650\n",
      "Data columns (total 16 columns):\n",
      " #   Column            Non-Null Count  Dtype         \n",
      "---  ------            --------------  -----         \n",
      " 0   Retailer          9650 non-null   object        \n",
      " 1   Retailer_ID       9649 non-null   float64       \n",
      " 2   Invoice_Date      9648 non-null   datetime64[ns]\n",
      " 3   Region            9651 non-null   object        \n",
      " 4   State             9649 non-null   object        \n",
      " 5   City              9649 non-null   object        \n",
      " 6   Product           9649 non-null   object        \n",
      " 7   Price_per_Unit    9649 non-null   float64       \n",
      " 8   Units_Sold        9650 non-null   float64       \n",
      " 9   Total_Sales       9649 non-null   float64       \n",
      " 10  Operating_Profit  9649 non-null   float64       \n",
      " 11  Operating_Margin  9649 non-null   float64       \n",
      " 12  Sales_Method      9648 non-null   object        \n",
      " 13  Month             9648 non-null   float64       \n",
      " 14  MonthName         9648 non-null   object        \n",
      " 15  Year              9648 non-null   float64       \n",
      "dtypes: datetime64[ns](1), float64(8), object(7)\n",
      "memory usage: 1.2+ MB\n"
     ]
    }
   ],
   "source": [
    "Data.info()"
   ]
  },
  {
   "cell_type": "code",
   "execution_count": 68,
   "id": "f3ca63c2-6f89-454b-973b-a5f66aa28b00",
   "metadata": {},
   "outputs": [],
   "source": [
    "Data[\"Price_per_Unit\"]=Data[\"Price_per_Unit\"].fillna(value=Data[\"Price_per_Unit\"].median())"
   ]
  },
  {
   "cell_type": "code",
   "execution_count": 70,
   "id": "1cfa1d66-c539-4513-8e71-d288d0f42758",
   "metadata": {},
   "outputs": [
    {
     "name": "stdout",
     "output_type": "stream",
     "text": [
      "<class 'pandas.core.frame.DataFrame'>\n",
      "RangeIndex: 9651 entries, 0 to 9650\n",
      "Data columns (total 16 columns):\n",
      " #   Column            Non-Null Count  Dtype         \n",
      "---  ------            --------------  -----         \n",
      " 0   Retailer          9650 non-null   object        \n",
      " 1   Retailer_ID       9649 non-null   float64       \n",
      " 2   Invoice_Date      9648 non-null   datetime64[ns]\n",
      " 3   Region            9651 non-null   object        \n",
      " 4   State             9649 non-null   object        \n",
      " 5   City              9649 non-null   object        \n",
      " 6   Product           9649 non-null   object        \n",
      " 7   Price_per_Unit    9651 non-null   float64       \n",
      " 8   Units_Sold        9650 non-null   float64       \n",
      " 9   Total_Sales       9649 non-null   float64       \n",
      " 10  Operating_Profit  9649 non-null   float64       \n",
      " 11  Operating_Margin  9649 non-null   float64       \n",
      " 12  Sales_Method      9648 non-null   object        \n",
      " 13  Month             9648 non-null   float64       \n",
      " 14  MonthName         9648 non-null   object        \n",
      " 15  Year              9648 non-null   float64       \n",
      "dtypes: datetime64[ns](1), float64(8), object(7)\n",
      "memory usage: 1.2+ MB\n"
     ]
    }
   ],
   "source": [
    "Data.info()"
   ]
  },
  {
   "cell_type": "code",
   "execution_count": 76,
   "id": "c8bac916-81ba-47e3-8ce3-717a9183931d",
   "metadata": {},
   "outputs": [],
   "source": [
    "Data.Retailer=Data.Retailer.fillna(Data.Retailer.mode()[0])"
   ]
  },
  {
   "cell_type": "code",
   "execution_count": 78,
   "id": "0a8e0ed7-2bc6-4aa9-8279-cce9d9fd517e",
   "metadata": {},
   "outputs": [
    {
     "name": "stdout",
     "output_type": "stream",
     "text": [
      "<class 'pandas.core.frame.DataFrame'>\n",
      "RangeIndex: 9651 entries, 0 to 9650\n",
      "Data columns (total 16 columns):\n",
      " #   Column            Non-Null Count  Dtype         \n",
      "---  ------            --------------  -----         \n",
      " 0   Retailer          9651 non-null   object        \n",
      " 1   Retailer_ID       9649 non-null   float64       \n",
      " 2   Invoice_Date      9648 non-null   datetime64[ns]\n",
      " 3   Region            9651 non-null   object        \n",
      " 4   State             9649 non-null   object        \n",
      " 5   City              9649 non-null   object        \n",
      " 6   Product           9649 non-null   object        \n",
      " 7   Price_per_Unit    9651 non-null   float64       \n",
      " 8   Units_Sold        9650 non-null   float64       \n",
      " 9   Total_Sales       9649 non-null   float64       \n",
      " 10  Operating_Profit  9649 non-null   float64       \n",
      " 11  Operating_Margin  9649 non-null   float64       \n",
      " 12  Sales_Method      9648 non-null   object        \n",
      " 13  Month             9648 non-null   float64       \n",
      " 14  MonthName         9648 non-null   object        \n",
      " 15  Year              9648 non-null   float64       \n",
      "dtypes: datetime64[ns](1), float64(8), object(7)\n",
      "memory usage: 1.2+ MB\n"
     ]
    }
   ],
   "source": [
    "Data.info()"
   ]
  },
  {
   "cell_type": "code",
   "execution_count": 88,
   "id": "dd8f7cad-8cba-493b-893b-60884623fcb0",
   "metadata": {},
   "outputs": [],
   "source": [
    "Data.Retailer_ID=Data.Retailer_ID.astype(\"object\")"
   ]
  },
  {
   "cell_type": "code",
   "execution_count": 84,
   "id": "118edbd4-db8c-4bf9-8436-b2c867449a45",
   "metadata": {},
   "outputs": [],
   "source": [
    "Data.Retailer_ID=Data.Retailer_ID.fillna(value=Data.Retailer_ID.mode()[0])"
   ]
  },
  {
   "cell_type": "code",
   "execution_count": 90,
   "id": "7445b692-4fd6-46c2-8719-e031129b4867",
   "metadata": {},
   "outputs": [
    {
     "name": "stdout",
     "output_type": "stream",
     "text": [
      "<class 'pandas.core.frame.DataFrame'>\n",
      "RangeIndex: 9651 entries, 0 to 9650\n",
      "Data columns (total 16 columns):\n",
      " #   Column            Non-Null Count  Dtype         \n",
      "---  ------            --------------  -----         \n",
      " 0   Retailer          9651 non-null   object        \n",
      " 1   Retailer_ID       9651 non-null   object        \n",
      " 2   Invoice_Date      9648 non-null   datetime64[ns]\n",
      " 3   Region            9651 non-null   object        \n",
      " 4   State             9649 non-null   object        \n",
      " 5   City              9649 non-null   object        \n",
      " 6   Product           9649 non-null   object        \n",
      " 7   Price_per_Unit    9651 non-null   float64       \n",
      " 8   Units_Sold        9650 non-null   float64       \n",
      " 9   Total_Sales       9649 non-null   float64       \n",
      " 10  Operating_Profit  9649 non-null   float64       \n",
      " 11  Operating_Margin  9649 non-null   float64       \n",
      " 12  Sales_Method      9648 non-null   object        \n",
      " 13  Month             9648 non-null   float64       \n",
      " 14  MonthName         9648 non-null   object        \n",
      " 15  Year              9648 non-null   float64       \n",
      "dtypes: datetime64[ns](1), float64(7), object(8)\n",
      "memory usage: 1.2+ MB\n"
     ]
    }
   ],
   "source": [
    "Data.info()"
   ]
  },
  {
   "cell_type": "code",
   "execution_count": 94,
   "id": "9e3751b4-0b5f-4b12-abe2-05209a0e43cf",
   "metadata": {},
   "outputs": [],
   "source": [
    "Data['Invoice_Date'] = Data['Invoice_Date'].ffill()   # forward fill"
   ]
  },
  {
   "cell_type": "code",
   "execution_count": 96,
   "id": "7f83d015-5726-412f-9972-51b30d1bebd8",
   "metadata": {},
   "outputs": [
    {
     "name": "stdout",
     "output_type": "stream",
     "text": [
      "<class 'pandas.core.frame.DataFrame'>\n",
      "RangeIndex: 9651 entries, 0 to 9650\n",
      "Data columns (total 16 columns):\n",
      " #   Column            Non-Null Count  Dtype         \n",
      "---  ------            --------------  -----         \n",
      " 0   Retailer          9651 non-null   object        \n",
      " 1   Retailer_ID       9651 non-null   object        \n",
      " 2   Invoice_Date      9651 non-null   datetime64[ns]\n",
      " 3   Region            9651 non-null   object        \n",
      " 4   State             9649 non-null   object        \n",
      " 5   City              9649 non-null   object        \n",
      " 6   Product           9649 non-null   object        \n",
      " 7   Price_per_Unit    9651 non-null   float64       \n",
      " 8   Units_Sold        9650 non-null   float64       \n",
      " 9   Total_Sales       9649 non-null   float64       \n",
      " 10  Operating_Profit  9649 non-null   float64       \n",
      " 11  Operating_Margin  9649 non-null   float64       \n",
      " 12  Sales_Method      9648 non-null   object        \n",
      " 13  Month             9648 non-null   float64       \n",
      " 14  MonthName         9648 non-null   object        \n",
      " 15  Year              9648 non-null   float64       \n",
      "dtypes: datetime64[ns](1), float64(7), object(8)\n",
      "memory usage: 1.2+ MB\n"
     ]
    }
   ],
   "source": [
    "Data.info()"
   ]
  },
  {
   "cell_type": "code",
   "execution_count": 98,
   "id": "2ff7bacb-0a8b-4e8a-838a-f98f11f4b9ce",
   "metadata": {},
   "outputs": [],
   "source": [
    "Data.State=Data.State.fillna(value=Data.State.mode()[0])"
   ]
  },
  {
   "cell_type": "code",
   "execution_count": 100,
   "id": "d526aee2-1d56-4236-b543-cef5fa25144b",
   "metadata": {},
   "outputs": [
    {
     "name": "stdout",
     "output_type": "stream",
     "text": [
      "<class 'pandas.core.frame.DataFrame'>\n",
      "RangeIndex: 9651 entries, 0 to 9650\n",
      "Data columns (total 16 columns):\n",
      " #   Column            Non-Null Count  Dtype         \n",
      "---  ------            --------------  -----         \n",
      " 0   Retailer          9651 non-null   object        \n",
      " 1   Retailer_ID       9651 non-null   object        \n",
      " 2   Invoice_Date      9651 non-null   datetime64[ns]\n",
      " 3   Region            9651 non-null   object        \n",
      " 4   State             9651 non-null   object        \n",
      " 5   City              9649 non-null   object        \n",
      " 6   Product           9649 non-null   object        \n",
      " 7   Price_per_Unit    9651 non-null   float64       \n",
      " 8   Units_Sold        9650 non-null   float64       \n",
      " 9   Total_Sales       9649 non-null   float64       \n",
      " 10  Operating_Profit  9649 non-null   float64       \n",
      " 11  Operating_Margin  9649 non-null   float64       \n",
      " 12  Sales_Method      9648 non-null   object        \n",
      " 13  Month             9648 non-null   float64       \n",
      " 14  MonthName         9648 non-null   object        \n",
      " 15  Year              9648 non-null   float64       \n",
      "dtypes: datetime64[ns](1), float64(7), object(8)\n",
      "memory usage: 1.2+ MB\n"
     ]
    }
   ],
   "source": [
    "Data.info()"
   ]
  },
  {
   "cell_type": "code",
   "execution_count": 102,
   "id": "f735da97-da61-4dce-b750-a11f3c8d3411",
   "metadata": {},
   "outputs": [],
   "source": [
    "Data.City=Data.City.fillna(value=Data.City.mode()[0])"
   ]
  },
  {
   "cell_type": "code",
   "execution_count": 104,
   "id": "ce88bdb2-817f-4561-a4b8-8b318cfdefc2",
   "metadata": {},
   "outputs": [],
   "source": [
    "Data.Product=Data.Product.fillna(value=Data.Product.mode()[0])"
   ]
  },
  {
   "cell_type": "code",
   "execution_count": 106,
   "id": "40efab62-db3a-4e7e-a22e-bb982b029265",
   "metadata": {},
   "outputs": [
    {
     "name": "stdout",
     "output_type": "stream",
     "text": [
      "<class 'pandas.core.frame.DataFrame'>\n",
      "RangeIndex: 9651 entries, 0 to 9650\n",
      "Data columns (total 16 columns):\n",
      " #   Column            Non-Null Count  Dtype         \n",
      "---  ------            --------------  -----         \n",
      " 0   Retailer          9651 non-null   object        \n",
      " 1   Retailer_ID       9651 non-null   object        \n",
      " 2   Invoice_Date      9651 non-null   datetime64[ns]\n",
      " 3   Region            9651 non-null   object        \n",
      " 4   State             9651 non-null   object        \n",
      " 5   City              9651 non-null   object        \n",
      " 6   Product           9651 non-null   object        \n",
      " 7   Price_per_Unit    9651 non-null   float64       \n",
      " 8   Units_Sold        9650 non-null   float64       \n",
      " 9   Total_Sales       9649 non-null   float64       \n",
      " 10  Operating_Profit  9649 non-null   float64       \n",
      " 11  Operating_Margin  9649 non-null   float64       \n",
      " 12  Sales_Method      9648 non-null   object        \n",
      " 13  Month             9648 non-null   float64       \n",
      " 14  MonthName         9648 non-null   object        \n",
      " 15  Year              9648 non-null   float64       \n",
      "dtypes: datetime64[ns](1), float64(7), object(8)\n",
      "memory usage: 1.2+ MB\n"
     ]
    }
   ],
   "source": [
    "Data.info()"
   ]
  },
  {
   "cell_type": "code",
   "execution_count": 108,
   "id": "82892726-f2de-4b76-b6e4-752a1e138bda",
   "metadata": {},
   "outputs": [],
   "source": [
    "Data.Units_Sold=Data.Units_Sold.fillna(value=Data.Units_Sold.median())"
   ]
  },
  {
   "cell_type": "code",
   "execution_count": 110,
   "id": "f277193c-5b8c-4310-a1f3-21060e13ed4a",
   "metadata": {},
   "outputs": [],
   "source": [
    "Data.Total_Sales=Data.Total_Sales.fillna(value=Data.Total_Sales.median())"
   ]
  },
  {
   "cell_type": "code",
   "execution_count": 112,
   "id": "16a06c37-1cc5-4eb3-abdc-f517be4c9590",
   "metadata": {},
   "outputs": [],
   "source": [
    "Data.Operating_Profit=Data.Operating_Profit.fillna(value=Data.Operating_Profit.median())"
   ]
  },
  {
   "cell_type": "code",
   "execution_count": 114,
   "id": "1cb9304f-3b6c-4d23-86f3-a5f900edd455",
   "metadata": {},
   "outputs": [],
   "source": [
    "Data.Operating_Margin=Data.Operating_Margin.fillna(value=Data.Operating_Margin.median())"
   ]
  },
  {
   "cell_type": "code",
   "execution_count": 116,
   "id": "63d88268-a9fb-4e9e-ac98-6337d24879b8",
   "metadata": {},
   "outputs": [],
   "source": [
    "Data.Sales_Method=Data.Sales_Method.fillna(value=Data.Sales_Method.mode()[0])"
   ]
  },
  {
   "cell_type": "code",
   "execution_count": 118,
   "id": "59114bc5-a886-4a31-a64d-e13d703f5156",
   "metadata": {},
   "outputs": [],
   "source": [
    "Data['Month'] = Data['Month'].ffill()   # forward fill"
   ]
  },
  {
   "cell_type": "code",
   "execution_count": 120,
   "id": "e4c4a7b7-1c46-4647-8b34-e3448217ec01",
   "metadata": {},
   "outputs": [],
   "source": [
    "Data['MonthName'] = Data['MonthName'].ffill()   # forward fill"
   ]
  },
  {
   "cell_type": "code",
   "execution_count": 122,
   "id": "d1b57bd1-d23b-447c-bf73-188ac4e8c237",
   "metadata": {},
   "outputs": [],
   "source": [
    "Data['Year'] = Data['Year'].ffill()   # forward fill"
   ]
  },
  {
   "cell_type": "code",
   "execution_count": 124,
   "id": "be5f6613-b170-4f00-a317-fc8a9816fc50",
   "metadata": {},
   "outputs": [
    {
     "data": {
      "text/html": [
       "<div>\n",
       "<style scoped>\n",
       "    .dataframe tbody tr th:only-of-type {\n",
       "        vertical-align: middle;\n",
       "    }\n",
       "\n",
       "    .dataframe tbody tr th {\n",
       "        vertical-align: top;\n",
       "    }\n",
       "\n",
       "    .dataframe thead th {\n",
       "        text-align: right;\n",
       "    }\n",
       "</style>\n",
       "<table border=\"1\" class=\"dataframe\">\n",
       "  <thead>\n",
       "    <tr style=\"text-align: right;\">\n",
       "      <th></th>\n",
       "      <th>Retailer</th>\n",
       "      <th>Retailer_ID</th>\n",
       "      <th>Invoice_Date</th>\n",
       "      <th>Region</th>\n",
       "      <th>State</th>\n",
       "      <th>City</th>\n",
       "      <th>Product</th>\n",
       "      <th>Price_per_Unit</th>\n",
       "      <th>Units_Sold</th>\n",
       "      <th>Total_Sales</th>\n",
       "      <th>Operating_Profit</th>\n",
       "      <th>Operating_Margin</th>\n",
       "      <th>Sales_Method</th>\n",
       "      <th>Month</th>\n",
       "      <th>MonthName</th>\n",
       "      <th>Year</th>\n",
       "    </tr>\n",
       "  </thead>\n",
       "  <tbody>\n",
       "    <tr>\n",
       "      <th>5932</th>\n",
       "      <td>West Gear</td>\n",
       "      <td>1197831.0</td>\n",
       "      <td>2021-07-06</td>\n",
       "      <td>West</td>\n",
       "      <td>Idaho</td>\n",
       "      <td>Boise</td>\n",
       "      <td>Men's Athletic Footwear</td>\n",
       "      <td>52.0</td>\n",
       "      <td>202.0</td>\n",
       "      <td>10504.0</td>\n",
       "      <td>5462.0</td>\n",
       "      <td>0.52</td>\n",
       "      <td>Online</td>\n",
       "      <td>7.0</td>\n",
       "      <td>July</td>\n",
       "      <td>2021.0</td>\n",
       "    </tr>\n",
       "  </tbody>\n",
       "</table>\n",
       "</div>"
      ],
      "text/plain": [
       "       Retailer Retailer_ID Invoice_Date Region  State   City  \\\n",
       "5932  West Gear   1197831.0   2021-07-06   West  Idaho  Boise   \n",
       "\n",
       "                      Product  Price_per_Unit  Units_Sold  Total_Sales  \\\n",
       "5932  Men's Athletic Footwear            52.0       202.0      10504.0   \n",
       "\n",
       "      Operating_Profit  Operating_Margin Sales_Method  Month MonthName    Year  \n",
       "5932            5462.0              0.52       Online    7.0      July  2021.0  "
      ]
     },
     "execution_count": 124,
     "metadata": {},
     "output_type": "execute_result"
    }
   ],
   "source": [
    "Data.sample()"
   ]
  },
  {
   "cell_type": "code",
   "execution_count": 126,
   "id": "ec544afb-58a4-4c4b-8223-312c8708e2a1",
   "metadata": {},
   "outputs": [
    {
     "name": "stdout",
     "output_type": "stream",
     "text": [
      "<class 'pandas.core.frame.DataFrame'>\n",
      "RangeIndex: 9651 entries, 0 to 9650\n",
      "Data columns (total 16 columns):\n",
      " #   Column            Non-Null Count  Dtype         \n",
      "---  ------            --------------  -----         \n",
      " 0   Retailer          9651 non-null   object        \n",
      " 1   Retailer_ID       9651 non-null   object        \n",
      " 2   Invoice_Date      9651 non-null   datetime64[ns]\n",
      " 3   Region            9651 non-null   object        \n",
      " 4   State             9651 non-null   object        \n",
      " 5   City              9651 non-null   object        \n",
      " 6   Product           9651 non-null   object        \n",
      " 7   Price_per_Unit    9651 non-null   float64       \n",
      " 8   Units_Sold        9651 non-null   float64       \n",
      " 9   Total_Sales       9651 non-null   float64       \n",
      " 10  Operating_Profit  9651 non-null   float64       \n",
      " 11  Operating_Margin  9651 non-null   float64       \n",
      " 12  Sales_Method      9651 non-null   object        \n",
      " 13  Month             9651 non-null   float64       \n",
      " 14  MonthName         9651 non-null   object        \n",
      " 15  Year              9651 non-null   float64       \n",
      "dtypes: datetime64[ns](1), float64(7), object(8)\n",
      "memory usage: 1.2+ MB\n"
     ]
    }
   ],
   "source": [
    "Data.info()"
   ]
  },
  {
   "cell_type": "code",
   "execution_count": 140,
   "id": "0ca56e59-dfed-427b-8fcd-b1c0b93d35f8",
   "metadata": {},
   "outputs": [
    {
     "data": {
      "text/html": [
       "<div>\n",
       "<style scoped>\n",
       "    .dataframe tbody tr th:only-of-type {\n",
       "        vertical-align: middle;\n",
       "    }\n",
       "\n",
       "    .dataframe tbody tr th {\n",
       "        vertical-align: top;\n",
       "    }\n",
       "\n",
       "    .dataframe thead th {\n",
       "        text-align: right;\n",
       "    }\n",
       "</style>\n",
       "<table border=\"1\" class=\"dataframe\">\n",
       "  <thead>\n",
       "    <tr style=\"text-align: right;\">\n",
       "      <th></th>\n",
       "      <th>Total_Sales</th>\n",
       "    </tr>\n",
       "    <tr>\n",
       "      <th>Region</th>\n",
       "      <th></th>\n",
       "    </tr>\n",
       "  </thead>\n",
       "  <tbody>\n",
       "    <tr>\n",
       "      <th>West</th>\n",
       "      <td>1,169,864,459</td>\n",
       "    </tr>\n",
       "    <tr>\n",
       "      <th>Northeast</th>\n",
       "      <td>186,324,067</td>\n",
       "    </tr>\n",
       "    <tr>\n",
       "      <th>Southeast</th>\n",
       "      <td>163,171,236</td>\n",
       "    </tr>\n",
       "    <tr>\n",
       "      <th>South</th>\n",
       "      <td>144,663,181</td>\n",
       "    </tr>\n",
       "    <tr>\n",
       "      <th>Midwest</th>\n",
       "      <td>135,800,459</td>\n",
       "    </tr>\n",
       "  </tbody>\n",
       "</table>\n",
       "</div>"
      ],
      "text/plain": [
       "            Total_Sales\n",
       "Region                 \n",
       "West      1,169,864,459\n",
       "Northeast   186,324,067\n",
       "Southeast   163,171,236\n",
       "South       144,663,181\n",
       "Midwest     135,800,459"
      ]
     },
     "execution_count": 140,
     "metadata": {},
     "output_type": "execute_result"
    }
   ],
   "source": [
    "Data.pivot_table(index=\"Region\",values=\"Total_Sales\",aggfunc=\"sum\").sort_values(by=\"Total_Sales\",ascending=False)"
   ]
  },
  {
   "cell_type": "code",
   "execution_count": 134,
   "id": "7cc9b267-0b4d-4ece-8d1c-99bf4c31da3e",
   "metadata": {},
   "outputs": [],
   "source": [
    "pd.options.display.float_format = '{:,.0f}'.format"
   ]
  },
  {
   "cell_type": "code",
   "execution_count": 156,
   "id": "71bc9a4a-a8e7-4aab-8789-bc284ec43bfd",
   "metadata": {},
   "outputs": [
    {
     "data": {
      "text/html": [
       "<div>\n",
       "<style scoped>\n",
       "    .dataframe tbody tr th:only-of-type {\n",
       "        vertical-align: middle;\n",
       "    }\n",
       "\n",
       "    .dataframe tbody tr th {\n",
       "        vertical-align: top;\n",
       "    }\n",
       "\n",
       "    .dataframe thead th {\n",
       "        text-align: right;\n",
       "    }\n",
       "</style>\n",
       "<table border=\"1\" class=\"dataframe\">\n",
       "  <thead>\n",
       "    <tr style=\"text-align: right;\">\n",
       "      <th></th>\n",
       "      <th>Total_Sales</th>\n",
       "    </tr>\n",
       "    <tr>\n",
       "      <th>Product</th>\n",
       "      <th></th>\n",
       "    </tr>\n",
       "  </thead>\n",
       "  <tbody>\n",
       "    <tr>\n",
       "      <th>Men's Athletic Footwear</th>\n",
       "      <td>653,589</td>\n",
       "    </tr>\n",
       "    <tr>\n",
       "      <th>Men's Street Footwear</th>\n",
       "      <td>129,706</td>\n",
       "    </tr>\n",
       "    <tr>\n",
       "      <th>Women's Apparel</th>\n",
       "      <td>111,343</td>\n",
       "    </tr>\n",
       "    <tr>\n",
       "      <th>Women's Street Footwear</th>\n",
       "      <td>79,604</td>\n",
       "    </tr>\n",
       "    <tr>\n",
       "      <th>Men's Apparel</th>\n",
       "      <td>77,041</td>\n",
       "    </tr>\n",
       "    <tr>\n",
       "      <th>Women's Athletic Footwear</th>\n",
       "      <td>66,396</td>\n",
       "    </tr>\n",
       "  </tbody>\n",
       "</table>\n",
       "</div>"
      ],
      "text/plain": [
       "                           Total_Sales\n",
       "Product                               \n",
       "Men's Athletic Footwear        653,589\n",
       "Men's Street Footwear          129,706\n",
       "Women's Apparel                111,343\n",
       "Women's Street Footwear         79,604\n",
       "Men's Apparel                   77,041\n",
       "Women's Athletic Footwear       66,396"
      ]
     },
     "execution_count": 156,
     "metadata": {},
     "output_type": "execute_result"
    }
   ],
   "source": [
    "Data.pivot_table(index=\"Product\",values=\"Total_Sales\",aggfunc=\"mean\").sort_values(by=\"Total_Sales\",ascending=False)"
   ]
  },
  {
   "cell_type": "code",
   "execution_count": 148,
   "id": "45081592-cc8f-4ce9-ac98-12ba50794f49",
   "metadata": {},
   "outputs": [
    {
     "data": {
      "text/plain": [
       "Region     Product                  \n",
       "Midwest    Men's Apparel                  47\n",
       "           Men's Athletic Footwear        38\n",
       "           Men's Street Footwear          42\n",
       "           Women's Apparel                47\n",
       "           Women's Athletic Footwear      35\n",
       "           Women's Street Footwear        33\n",
       "Northeast  Men's Apparel                  52\n",
       "           Men's Athletic Footwear        45\n",
       "           Men's Street Footwear          49\n",
       "           Women's Apparel                52\n",
       "           Women's Athletic Footwear      41\n",
       "           Women's Street Footwear        40\n",
       "South      Men's Apparel                  43\n",
       "           Men's Athletic Footwear        37\n",
       "           Men's Street Footwear          35\n",
       "           Women's Apparel                44\n",
       "           Women's Athletic Footwear      37\n",
       "           Women's Street Footwear        35\n",
       "Southeast  Men's Apparel                  55\n",
       "           Men's Athletic Footwear        49\n",
       "           Men's Street Footwear          49\n",
       "           Women's Apparel                57\n",
       "           Women's Athletic Footwear      46\n",
       "           Women's Street Footwear        45\n",
       "West       0                              45\n",
       "           Men's Apparel                  53\n",
       "           Men's Athletic Footwear     1,108\n",
       "           Men's Street Footwear          46\n",
       "           Women's Apparel                57\n",
       "           Women's Athletic Footwear      47\n",
       "           Women's Street Footwear        47\n",
       "Name: Price_per_Unit, dtype: float64"
      ]
     },
     "execution_count": 148,
     "metadata": {},
     "output_type": "execute_result"
    }
   ],
   "source": [
    "Data.groupby([\"Region\",\"Product\"])[\"Price_per_Unit\"].mean()"
   ]
  },
  {
   "cell_type": "code",
   "execution_count": 154,
   "id": "785b09f1-40a0-4a8f-b687-b62cfcc615c6",
   "metadata": {},
   "outputs": [
    {
     "data": {
      "text/html": [
       "<div>\n",
       "<style scoped>\n",
       "    .dataframe tbody tr th:only-of-type {\n",
       "        vertical-align: middle;\n",
       "    }\n",
       "\n",
       "    .dataframe tbody tr th {\n",
       "        vertical-align: top;\n",
       "    }\n",
       "\n",
       "    .dataframe thead th {\n",
       "        text-align: right;\n",
       "    }\n",
       "</style>\n",
       "<table border=\"1\" class=\"dataframe\">\n",
       "  <thead>\n",
       "    <tr style=\"text-align: right;\">\n",
       "      <th></th>\n",
       "      <th>sum</th>\n",
       "      <th>mean</th>\n",
       "      <th>min</th>\n",
       "      <th>max</th>\n",
       "    </tr>\n",
       "    <tr>\n",
       "      <th>Product</th>\n",
       "      <th></th>\n",
       "      <th></th>\n",
       "      <th></th>\n",
       "      <th></th>\n",
       "    </tr>\n",
       "  </thead>\n",
       "  <tbody>\n",
       "    <tr>\n",
       "      <th>Men's Apparel</th>\n",
       "      <td>123,728,632</td>\n",
       "      <td>77,041</td>\n",
       "      <td>252</td>\n",
       "      <td>617,500</td>\n",
       "    </tr>\n",
       "    <tr>\n",
       "      <th>Men's Athletic Footwear</th>\n",
       "      <td>1,053,585,381</td>\n",
       "      <td>653,589</td>\n",
       "      <td>736</td>\n",
       "      <td>899,902,125</td>\n",
       "    </tr>\n",
       "    <tr>\n",
       "      <th>Men's Street Footwear</th>\n",
       "      <td>208,826,244</td>\n",
       "      <td>129,706</td>\n",
       "      <td>1,568</td>\n",
       "      <td>810,000</td>\n",
       "    </tr>\n",
       "    <tr>\n",
       "      <th>Women's Apparel</th>\n",
       "      <td>179,038,860</td>\n",
       "      <td>111,343</td>\n",
       "      <td>910</td>\n",
       "      <td>825,000</td>\n",
       "    </tr>\n",
       "    <tr>\n",
       "      <th>Women's Athletic Footwear</th>\n",
       "      <td>106,631,896</td>\n",
       "      <td>66,396</td>\n",
       "      <td>0</td>\n",
       "      <td>540,000</td>\n",
       "    </tr>\n",
       "    <tr>\n",
       "      <th>Women's Street Footwear</th>\n",
       "      <td>128,002,813</td>\n",
       "      <td>79,604</td>\n",
       "      <td>369</td>\n",
       "      <td>665,000</td>\n",
       "    </tr>\n",
       "  </tbody>\n",
       "</table>\n",
       "</div>"
      ],
      "text/plain": [
       "                                    sum    mean   min         max\n",
       "Product                                                          \n",
       "Men's Apparel               123,728,632  77,041   252     617,500\n",
       "Men's Athletic Footwear   1,053,585,381 653,589   736 899,902,125\n",
       "Men's Street Footwear       208,826,244 129,706 1,568     810,000\n",
       "Women's Apparel             179,038,860 111,343   910     825,000\n",
       "Women's Athletic Footwear   106,631,896  66,396     0     540,000\n",
       "Women's Street Footwear     128,002,813  79,604   369     665,000"
      ]
     },
     "execution_count": 154,
     "metadata": {},
     "output_type": "execute_result"
    }
   ],
   "source": [
    "Data.groupby(\"Product\")[\"Total_Sales\"].agg([\"sum\",\"mean\",\"min\",\"max\"])"
   ]
  },
  {
   "cell_type": "code",
   "execution_count": 152,
   "id": "d11068b0-129a-40e1-803b-fc383a799a77",
   "metadata": {},
   "outputs": [],
   "source": [
    "Data = Data[Data['Product'] != \"0\"]"
   ]
  },
  {
   "cell_type": "code",
   "execution_count": 158,
   "id": "adcb69dc-374f-407e-b18e-f595633d4a42",
   "metadata": {},
   "outputs": [
    {
     "data": {
      "text/html": [
       "<div>\n",
       "<style scoped>\n",
       "    .dataframe tbody tr th:only-of-type {\n",
       "        vertical-align: middle;\n",
       "    }\n",
       "\n",
       "    .dataframe tbody tr th {\n",
       "        vertical-align: top;\n",
       "    }\n",
       "\n",
       "    .dataframe thead th {\n",
       "        text-align: right;\n",
       "    }\n",
       "</style>\n",
       "<table border=\"1\" class=\"dataframe\">\n",
       "  <thead>\n",
       "    <tr style=\"text-align: right;\">\n",
       "      <th></th>\n",
       "      <th>sum</th>\n",
       "      <th>mean</th>\n",
       "      <th>min</th>\n",
       "      <th>max</th>\n",
       "    </tr>\n",
       "    <tr>\n",
       "      <th>Sales_Method</th>\n",
       "      <th></th>\n",
       "      <th></th>\n",
       "      <th></th>\n",
       "      <th></th>\n",
       "    </tr>\n",
       "  </thead>\n",
       "  <tbody>\n",
       "    <tr>\n",
       "      <th>In-store</th>\n",
       "      <td>356,643,750</td>\n",
       "      <td>204,968</td>\n",
       "      <td>7,500</td>\n",
       "      <td>825,000</td>\n",
       "    </tr>\n",
       "    <tr>\n",
       "      <th>Online</th>\n",
       "      <td>1,147,584,583</td>\n",
       "      <td>234,632</td>\n",
       "      <td>0</td>\n",
       "      <td>899,902,125</td>\n",
       "    </tr>\n",
       "    <tr>\n",
       "      <th>Outlet</th>\n",
       "      <td>295,585,493</td>\n",
       "      <td>97,908</td>\n",
       "      <td>0</td>\n",
       "      <td>780,000</td>\n",
       "    </tr>\n",
       "  </tbody>\n",
       "</table>\n",
       "</div>"
      ],
      "text/plain": [
       "                       sum    mean   min         max\n",
       "Sales_Method                                        \n",
       "In-store       356,643,750 204,968 7,500     825,000\n",
       "Online       1,147,584,583 234,632     0 899,902,125\n",
       "Outlet         295,585,493  97,908     0     780,000"
      ]
     },
     "execution_count": 158,
     "metadata": {},
     "output_type": "execute_result"
    }
   ],
   "source": [
    "Data.groupby(\"Sales_Method\")[\"Total_Sales\"].agg([\"sum\",\"mean\",\"min\",\"max\"])"
   ]
  },
  {
   "cell_type": "code",
   "execution_count": null,
   "id": "a708b71a-0c99-4cdb-aa82-3df61a384fa0",
   "metadata": {},
   "outputs": [],
   "source": []
  }
 ],
 "metadata": {
  "kernelspec": {
   "display_name": "Python 3 (ipykernel)",
   "language": "python",
   "name": "python3"
  },
  "language_info": {
   "codemirror_mode": {
    "name": "ipython",
    "version": 3
   },
   "file_extension": ".py",
   "mimetype": "text/x-python",
   "name": "python",
   "nbconvert_exporter": "python",
   "pygments_lexer": "ipython3",
   "version": "3.12.7"
  }
 },
 "nbformat": 4,
 "nbformat_minor": 5
}
